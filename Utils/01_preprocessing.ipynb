{
 "cells": [
  {
   "cell_type": "markdown",
   "metadata": {},
   "source": [
    "# 第一步：提取视频中的音频\n",
    "\n",
    "The following script is adopted from\n",
    "https://zhuanlan.zhihu.com/p/57944345\n",
    "\n",
    "`glob.glob()`\n",
    "\n",
    "返回文件的路径。若使用 `*` 描述文件名，则返回所有匹配文件的路径。"
   ]
  },
  {
   "cell_type": "code",
   "execution_count": 1,
   "metadata": {},
   "outputs": [
    {
     "data": {
      "text/plain": [
       "['/Users/wenjiazhai/Documents/GitHub/data_science_study/work/data/records/陀螺为什么不会倒.mp4',\n",
       " '/Users/wenjiazhai/Documents/GitHub/data_science_study/work/data/records/《流浪地球》科普答疑：人们为什么要去比邻星？太阳会爆炸吗？李永乐老师告诉你.mp4',\n",
       " '/Users/wenjiazhai/Documents/GitHub/data_science_study/work/data/records/什么是爱情？怎么谈恋爱，才能有效的找到自己的真命天子？李永乐老师讲爱情数学.mp4',\n",
       " '/Users/wenjiazhai/Documents/GitHub/data_science_study/work/data/records/光纤：光为什么能通讯？高锟为啥能得诺贝尔奖？李永乐老师追忆光纤之父.mp4',\n",
       " '/Users/wenjiazhai/Documents/GitHub/data_science_study/work/data/records/基因工程对人类的重大贡献：胰岛素是如何制作的？李永乐老师讲糖尿病医疗简史.mp4']"
      ]
     },
     "execution_count": 1,
     "metadata": {},
     "output_type": "execute_result"
    }
   ],
   "source": [
    "import glob\n",
    "import os\n",
    "\n",
    "video_dir = '/Users/wenjiazhai/Documents/GitHub/data_science_study/work/data/records'  \n",
    "\n",
    "# 视频文件所在文件夹\n",
    "os.chdir(video_dir)\n",
    "# os.chdir(path): 改变 working directory 到 path\n",
    "\n",
    "for directory in ['train', 'val', 'test']:\n",
    "    if os.path.exists(directory):\n",
    "        next\n",
    "    else:\n",
    "        os.mkdir(directory)\n",
    "# 创建存储数据集的文件夹，备用\n",
    "\n",
    "files = glob.glob(video_dir + '/*.mp4')\n",
    "files[:5]"
   ]
  },
  {
   "cell_type": "markdown",
   "metadata": {},
   "source": [
    "# 一、安装 pydub 库和 FFmpeg\n",
    "\n",
    "MacOS 下可以使用 HomeBrew 安装 ffmpeg。"
   ]
  },
  {
   "cell_type": "code",
   "execution_count": 2,
   "metadata": {},
   "outputs": [],
   "source": [
    "# 安装 Homebrew\n",
    "# !/usr/bin/ruby -e \"$(curl -fsSL https://raw.githubusercontent.com/Homebrew/install/master/install)\"\n",
    "\n",
    "# 安装 ffmpeg\n",
    "# !brew install ffmpeg\n",
    "\n",
    "# 安装 pydub\n",
    "# !pip install pydub\n",
    "\n",
    "# 临时添加库的 path 到 Python 环境中\n",
    "# https://stackoverflow.com/questions/57350259/filenotfounderror-errno-2-no-such-file-or-directory-ffprobe-ffprobe/57350596#57350596\n",
    "import sys\n",
    "sys.path.append('/path/to/ffmpeg')"
   ]
  },
  {
   "cell_type": "markdown",
   "metadata": {},
   "source": [
    "# 二、抽取音频\n",
    "考虑到所需抽取音频的数量较多，我们将遍历目录下所有视频文件，进行批量音频提取。"
   ]
  },
  {
   "cell_type": "code",
   "execution_count": 3,
   "metadata": {},
   "outputs": [],
   "source": [
    "from pydub import AudioSegment\n",
    "\n",
    "for video in files:\n",
    "    filename = os.path.splitext(os.path.basename(video))[0]\n",
    "    # os.path.splitext(path): Split the pathname path into a pair (root, ext) such that root + ext == path\n",
    "    # os.path.basename(path): 返回指定文件的文件名\n",
    "    wav_filename = filename + '.wav'\n",
    "    if os.path.exists(wav_filename):\n",
    "        # os.path.exists(path): 如果存在该文件或文件夹，返回 True\n",
    "        next\n",
    "    else:\n",
    "        sound = AudioSegment.from_file(video).set_channels(1)\n",
    "        sound = sound.set_frame_rate(16000)\n",
    "        sound.export(wav_filename, format='wav')\n",
    "        # https://blog.csdn.net/Debatrix/article/details/59058762\n",
    "        # https://github.com/jiaaro/pydub/blob/master/API.markdown"
   ]
  },
  {
   "cell_type": "code",
   "execution_count": 4,
   "metadata": {},
   "outputs": [
    {
     "data": {
      "text/plain": [
       "['粒子加速器有什么用.wav',\n",
       " '输了就加倍下注，能赚钱吗？股票下跌就补仓？李永乐老师讲赌徒谬误.wav',\n",
       " '太阳会死亡吗？红巨星、中子星和黑洞等都是哪来的？李永乐老师讲恒星演化.wav',\n",
       " '李永乐老师讲宇称不守恒.wav',\n",
       " '凯利公式是啥？按这个炒股能成巴菲特？如何分配手里的钱进行最优投资，李永乐老师告诉你.wav']"
      ]
     },
     "execution_count": 4,
     "metadata": {},
     "output_type": "execute_result"
    }
   ],
   "source": [
    "audio_files = glob.glob('*.wav')\n",
    "audio_files[:5]"
   ]
  },
  {
   "cell_type": "markdown",
   "metadata": {},
   "source": [
    "# 第二步：划分数据集\n",
    "\n",
    "现在手上已经有了 100 条音频，我们打算以 8:1:1 (training:validation:test) 的比例划分数据集。\n",
    "\n",
    "假定音频的大小与时长成正比，我们希望找出最短的 80 条音频作为训练集，10 条中等长度的音频作为验证集，10 条最长的音频作为测试集。"
   ]
  },
  {
   "cell_type": "markdown",
   "metadata": {},
   "source": [
    "`os.path.getsize()`\n",
    "\n",
    "返回文件的大小。"
   ]
  },
  {
   "cell_type": "code",
   "execution_count": 5,
   "metadata": {},
   "outputs": [
    {
     "name": "stdout",
     "output_type": "stream",
     "text": [
      "[35985402, 19215022, 24162914, 32166926, 22176772, 26944852, 25515988, 29692608, 19752238, 29134586]\n"
     ]
    }
   ],
   "source": [
    "file_size = []\n",
    "for file in audio_files:\n",
    "    file_size.append(os.path.getsize(file))\n",
    "print(file_size[:10])"
   ]
  },
  {
   "cell_type": "code",
   "execution_count": 6,
   "metadata": {},
   "outputs": [
    {
     "name": "stdout",
     "output_type": "stream",
     "text": [
      "训练集: ['地球的半径和质量都是怎么测量出来的.wav', '《流浪地球》科普答疑：人们为什么要去比邻星？太阳会爆炸吗？李永乐老师告诉你.wav', '量子延迟选择实验是怎么回事.wav', '断臂的维纳斯到底有多高.wav', '陀螺为什么不会倒.wav']\n",
      "验证集: ['反物质是什么.wav', '李永乐老师讲音律.wav', '海森堡不确定性原理和量子隧穿效应如何理解.wav', '外星人存在吗？人类为什么看不到外星文明？李永乐老师讲费米悖论.wav', 'ABO血型有啥区别？孩子是不是亲生，能用血型判断吗？李永乐老师讲造血干细胞移植.wav']\n",
      "测试集: ['0.999…=1？数到底是什么？李永乐老师讲数学公理化.wav', '粒子加速器有什么用.wav', '李永乐老师教你安全使用电池.wav', '首张黑洞照片咋拍的？事件视界望远镜EHT是什么.wav', '李永乐老师讲碳的同素异形体.wav']\n"
     ]
    }
   ],
   "source": [
    "# 使用 `zip` 将文件名与相应的大小放在一起，以文件大小排序，使用解析式提取文件名。\n",
    "sorted_file_lists = [f for _, f in sorted(zip(file_size, audio_files))]\n",
    "train_file_lists = sorted_file_lists[:80]\n",
    "val_file_lists = sorted_file_lists[80:90]\n",
    "test_file_lists = sorted_file_lists[90:]\n",
    "\n",
    "print('训练集:', train_file_lists[:5])\n",
    "print('验证集:', val_file_lists[:5])\n",
    "print('测试集:', test_file_lists[:5])"
   ]
  },
  {
   "cell_type": "markdown",
   "metadata": {},
   "source": [
    "# 第三步\n",
    "\n",
    "## 构建训练集、测试集:\n",
    "1. 根据字幕切分音频\n",
    "2. 字幕转换成拼音，放在字幕前面\n",
    "3. 将新文件名放在拼音前面，将所有文本打包成一个文件，与新文件放在一起。"
   ]
  },
  {
   "cell_type": "code",
   "execution_count": 7,
   "metadata": {},
   "outputs": [],
   "source": [
    "# 前期的准备工作，安装拼音功能库\n",
    "# !pip install pinyin"
   ]
  },
  {
   "cell_type": "code",
   "execution_count": 8,
   "metadata": {},
   "outputs": [],
   "source": [
    "_MAPPING = (u'零', u'一', u'二', u'三', u'四', u'五', u'六', u'七', u'八', u'九', u'十', \n",
    "            u'十一', u'十二', u'十三', u'十四', u'十五', u'十六', u'十七',u'十八', u'十九')\n",
    "_P0 = (u'', u'十', u'百', u'千', u'万')\n",
    "_S4 = 100000\n",
    "\n",
    "# 不涉及数位的数字转汉字函数\n",
    "\n",
    "def frac2chn(line):\n",
    "    match = re.findall('\\.\\d+', line)\n",
    "    if not match:\n",
    "        pass\n",
    "    else:\n",
    "        new = [_MAPPING[w] for w in match[0]]\n",
    "        new = ''.join(new)\n",
    "        line = re.sub(match[0], new, line)\n",
    "        line = re.sub('.', '点', line)\n",
    "    return line\n",
    "\n",
    "# 涉及数位的数字转汉字函数\n",
    "# https://www.jianshu.com/p/c87581f9aaa4\n",
    "\n",
    "def _to_chinese(num):\n",
    "    assert (0 <= num and num < _S4), f'{num} is out of range'\n",
    "    if num < 20:\n",
    "        return _MAPPING[num]\n",
    "    else:\n",
    "        lst = []\n",
    "        while num >= 10:\n",
    "            lst.append(num % 10)\n",
    "            num = num // 10\n",
    "        lst.append(num)\n",
    "        c = len(lst)  # 位数\n",
    "        result = u''\n",
    "\n",
    "        for idx, val in enumerate(lst):\n",
    "            val = int(val)\n",
    "            if val != 0:\n",
    "                result += _P0[idx] + _MAPPING[val]\n",
    "                if idx < c - 1 and lst[idx + 1] == 0:\n",
    "                    result += u'零'\n",
    "        result = result[::-1]\n",
    "    return result\n",
    "\n",
    "def num2chn(line):\n",
    "    match = re.findall('\\d+', line)\n",
    "    sub = [_to_chinese(int(s)) for s in match]\n",
    "    for i in range(len(match)):\n",
    "        line = re.sub(match[i], sub[i], line)\n",
    "    return line"
   ]
  },
  {
   "cell_type": "code",
   "execution_count": 9,
   "metadata": {},
   "outputs": [],
   "source": [
    "import re\n",
    "from os import listdir\n",
    "from os.path import isfile, join\n",
    "import pinyin\n",
    "from tqdm import tqdm\n",
    "\n",
    "def built_dataset(data, path):\n",
    "    length = len(data)\n",
    "    new_num = 0\n",
    "    for i, file in enumerate(data):\n",
    "        print(f'处理第 {i+1} / {length} 文件：',file)\n",
    "        piece_audio = AudioSegment.from_wav(file)\n",
    "        \n",
    "        sub_file = file[:-4] + '.srt'\n",
    "        \n",
    "        # 读取字幕文件，分离时间戳和字幕\n",
    "        with open(sub_file, 'r') as f:\n",
    "            raw = f.readlines()\n",
    "        for line in raw:\n",
    "            line = line.replace('\\n', '')\n",
    "        raw = [re.sub('[\\n\\s]', '', l) for l in raw]\n",
    "        timestamp_init = raw[1::4]\n",
    "        subtitle_init = raw[2::4][:-2]\n",
    "        \n",
    "        # 过滤字幕，去掉带特殊字符的字幕（如 ‘√’）和相应的时间戳\n",
    "        timestamp = []\n",
    "        subtitle_raw = []\n",
    "        for i in range(len(subtitle_init)):\n",
    "            if not re.findall('\\W', subtitle_init[i]):\n",
    "                subtitle_raw.append(subtitle_init[i])\n",
    "                timestamp.append(timestamp_init[i])\n",
    "        \n",
    "        # 处理字幕，将阿拉伯数字转换成汉字(105.10 -> 一百零五点一零），并用空格隔开每个字\n",
    "        # 数字转汉字分两步：首先转换小数点后面的部分，再转换小数点前面的部分\n",
    "        subtitle_raw = [frac2chn(l) for l in subtitle_raw]\n",
    "        subtitle_raw = [num2chn(l) for l in subtitle_raw]\n",
    "        subtitle = [' '.join(l) for l in subtitle_raw]\n",
    "        \n",
    "        # 处理时间戳\n",
    "        recording = []\n",
    "        for time in timestamp:\n",
    "            t = re.findall('00:(\\d+):(\\d+),(\\d+)-->00:(\\d+):(\\d+),(\\d+)', time)[0]\n",
    "            start = int(t[0]) * 60 * 1000 + int(t[1]) * 1000 + int(t[2])\n",
    "            end = int(t[3]) * 60000 + int(t[4]) * 1000 + int(t[5])\n",
    "            recording.append((start, end))\n",
    "        \n",
    "        # 提取音频，生成一个训练文件，同时将音频文件名、字幕、拼音写入同一个文件作为一个标注\n",
    "        output_filepath = video_dir + '/'+ path + '/' # 输出文件路径\n",
    "        \n",
    "        # 提取文件名中最大的编号\n",
    "        file_list = [f for f in listdir(output_filepath) if isfile(join(output_filepath, f))]\n",
    "        nums = [re.findall(r'^(\\d+)', f) for f in file_list if f.endswith('.wav')]\n",
    "        # https://stackoverflow.com/questions/3207219/how-do-i-list-all-files-of-a-directory\n",
    "        if not nums:\n",
    "            new_num = 0\n",
    "        else:\n",
    "            new_num = max([int(f[0]) for f in nums]) + 1\n",
    "        print(f'抓取第 {new_num} 段音频')\n",
    "        \n",
    "        for j, sub in enumerate(subtitle):\n",
    "            output_filename = path + '/' + str(new_num) + \".wav\"\n",
    "            piece = piece_audio[recording[j][0]:recording[j][1]]\n",
    "            piece.export(output_filename, 'wav')\n",
    "            label_filename = path + '/' + str(new_num) + '.txt'\n",
    "            \n",
    "            with open(label_filename, 'w') as f:\n",
    "                f.write(output_filename + '\\n')\n",
    "                f.write(pinyin.get(sub, format='numerical') + '\\n')\n",
    "                f.write(sub)\n",
    "            \n",
    "            new_num += 1"
   ]
  },
  {
   "cell_type": "code",
   "execution_count": 10,
   "metadata": {},
   "outputs": [
    {
     "name": "stdout",
     "output_type": "stream",
     "text": [
      "处理第 1 / 80 文件： 地球的半径和质量都是怎么测量出来的.wav\n",
      "抓取第 0 段音频\n",
      "处理第 2 / 80 文件： 《流浪地球》科普答疑：人们为什么要去比邻星？太阳会爆炸吗？李永乐老师告诉你.wav\n",
      "抓取第 97 段音频\n",
      "处理第 3 / 80 文件： 量子延迟选择实验是怎么回事.wav\n",
      "抓取第 198 段音频\n",
      "处理第 4 / 80 文件： 断臂的维纳斯到底有多高.wav\n",
      "抓取第 315 段音频\n",
      "处理第 5 / 80 文件： 陀螺为什么不会倒.wav\n",
      "抓取第 422 段音频\n",
      "处理第 6 / 80 文件： 李永乐老师讲条件概率的贝叶斯公式.wav\n",
      "抓取第 592 段音频\n",
      "处理第 7 / 80 文件： 牛顿用木桶实验论证绝对时空，“以太”却被迈克耳孙和莫雷宣布死刑.wav\n",
      "抓取第 713 段音频\n",
      "处理第 8 / 80 文件： 为什么久赌必输？股票加杠杆，风险为啥这么大？李永乐老师讲赌徒输光原理.wav\n",
      "抓取第 882 段音频\n",
      "处理第 9 / 80 文件： 霍尔效应是什么？车速表是如何测量汽车速度的？李永乐老师讲霍尔传感器.wav\n",
      "抓取第 992 段音频\n",
      "处理第 10 / 80 文件： 帆船竟然可以逆风航行？而且还有圆筒形的风帆？李永乐老师讲帆船的原理.wav\n",
      "抓取第 1165 段音频\n",
      "处理第 11 / 80 文件： 矿泉水从瓶里流出需要多长时间？这个问题并不简单！.wav\n",
      "抓取第 1335 段音频\n",
      "处理第 12 / 80 文件： 李永乐老师讲力矩平衡（1）.wav\n",
      "抓取第 1527 段音频\n",
      "处理第 13 / 80 文件： 李永乐老师讲力矩平衡（2）.wav\n",
      "抓取第 1744 段音频\n",
      "处理第 14 / 80 文件： 仰望同一片星空1:3.wav\n",
      "抓取第 1961 段音频\n",
      "处理第 15 / 80 文件： 人推墙壁没推动，不做功但为啥也会累？肌肉是咋工作的？李永乐老师告诉你.wav\n",
      "抓取第 2205 段音频\n",
      "处理第 16 / 80 文件： 输了就加倍下注，能赚钱吗？股票下跌就补仓？李永乐老师讲赌徒谬误.wav\n",
      "抓取第 2366 段音频\n",
      "处理第 17 / 80 文件： 如何说话让人喜欢？怎么做生意更吸引顾客？李永乐老师讲框架效应.wav\n",
      "抓取第 2565 段音频\n",
      "处理第 18 / 80 文件： 传销不挣钱为啥还有这么多人参与？美国大选为啥总是两党之争？李永乐老师讲一美元拍卖陷阱.wav\n",
      "抓取第 2730 段音频\n",
      "处理第 19 / 80 文件： 汽车发动机啥原理.wav\n",
      "抓取第 2949 段音频\n",
      "处理第 20 / 80 文件： 如何利用太阳光压飞出太阳系？李永乐老师10分钟讲光帆飞船！.wav\n",
      "抓取第 3179 段音频\n",
      "处理第 21 / 80 文件： 李永乐老师讲简谐运动.wav\n",
      "抓取第 3354 段音频\n",
      "处理第 22 / 80 文件： 网上热搜：警察抓酒鬼的概率如何求？体检的意义何在？李永乐老师讲贝叶斯公式！.wav\n",
      "抓取第 3578 段音频\n",
      "处理第 23 / 80 文件： “相互保”是骗局吗？保费会比普通保险贵吗？李永乐老师讲大数定律（2018最新）.wav\n",
      "抓取第 3739 段音频\n",
      "处理第 24 / 80 文件： 日光灯是如何点亮的？节能灯为啥节能？李永乐老师讲荧光灯原理.wav\n",
      "抓取第 3937 段音频\n",
      "处理第 25 / 80 文件： 凯利公式是啥？按这个炒股能成巴菲特？如何分配手里的钱进行最优投资，李永乐老师告诉你.wav\n",
      "抓取第 4139 段音频\n",
      "处理第 26 / 80 文件： 李永乐老师讲垃圾分类.wav\n",
      "抓取第 4317 段音频\n",
      "处理第 27 / 80 文件： 利用几根针，就能计算圆周率π了？抛硬币能立起来的概率是多少？李永乐老师讲蒲丰投针.wav\n",
      "抓取第 4621 段音频\n",
      "处理第 28 / 80 文件： 面对风险、机遇和挑战，你为什么总是赚小亏大？李永乐老师讲阿莱悖论.wav\n",
      "抓取第 4783 段音频\n",
      "处理第 29 / 80 文件： 多重宇宙和霍金的时序保护假说是怎么回事.wav\n",
      "抓取第 4982 段音频\n",
      "处理第 30 / 80 文件： 李永乐老师讲显微镜发展史.wav\n",
      "抓取第 5259 段音频\n",
      "处理第 31 / 80 文件： 实物粒子也有波动性吗？什么是物质波？李永乐老师讲公爵德布罗意的故事.wav\n",
      "抓取第 5518 段音频\n",
      "处理第 32 / 80 文件： 人类接近毁灭的危机：古巴导弹危机是怎么解决的？李永乐老师讲胆小鬼博弈.wav\n",
      "抓取第 5761 段音频\n",
      "处理第 33 / 80 文件： 车轮抱死时，汽车为啥会不受控制？ABS系统有啥用？李永乐老师告诉你.wav\n",
      "抓取第 6011 段音频\n",
      "处理第 34 / 80 文件： 古人如何计时？摆钟，机械手表为啥拆了就装不回去？李永乐老师讲钟表的发展.wav\n",
      "抓取第 6222 段音频\n",
      "处理第 35 / 80 文件： 30匹马都拉不开一个小破球？鱼怎么能游的比水面还高.wav\n",
      "抓取第 6454 段音频\n",
      "处理第 36 / 80 文件： 激光啥原理？居然比太阳温度还高？李永乐老师讲诺贝尔物理奖之激光（上）.wav\n",
      "抓取第 6756 段音频\n",
      "处理第 37 / 80 文件： 李永乐老师讲轰燃和爆燃.wav\n",
      "抓取第 6993 段音频\n",
      "处理第 38 / 80 文件： 太阳会死亡吗？红巨星、中子星和黑洞等都是哪来的？李永乐老师讲恒星演化.wav\n",
      "抓取第 7277 段音频\n",
      "处理第 39 / 80 文件： 交警给教授开罚单，教授却用物理学论证自己没责任.wav\n",
      "抓取第 7510 段音频\n",
      "处理第 40 / 80 文件： 光纤：光为什么能通讯？高锟为啥能得诺贝尔奖？李永乐老师追忆光纤之父.wav\n",
      "抓取第 7792 段音频\n",
      "处理第 41 / 80 文件： 加水就能跑的『水氢发动机』什么原理.wav\n",
      "抓取第 8018 段音频\n",
      "处理第 42 / 80 文件： 李永乐老师讲『贴现法』对股票估值.wav\n",
      "抓取第 8299 段音频\n",
      "处理第 43 / 80 文件： 光子是什么？爱因斯坦为啥得诺贝尔奖？李永乐老师讲光电效应实验.wav\n",
      "抓取第 8520 段音频\n",
      "处理第 44 / 80 文件： 李永乐老师讲地震预警原理.wav\n",
      "抓取第 8796 段音频\n",
      "处理第 45 / 80 文件： 太阳为啥不会瞬间就炸掉？核聚变比人体放热还缓慢吗？李永乐老师讲人造太阳（1）.wav\n",
      "抓取第 9089 段音频\n",
      "处理第 46 / 80 文件： 如何用市净率、市盈率衡量股票价值.wav\n",
      "抓取第 9318 段音频\n",
      "处理第 47 / 80 文件： 农历就是阴历吗？二十四节气和闰月咋回事？李永乐老师讲中国历法.wav\n",
      "抓取第 9538 段音频\n",
      "处理第 48 / 80 文件： 李永乐老师讲基尼系数.wav\n",
      "抓取第 9739 段音频\n",
      "处理第 49 / 80 文件： 流浪地球中的“引力弹弓”效应是啥？李永乐老师教你如何逃出太阳系.wav\n",
      "抓取第 10035 段音频\n",
      "处理第 50 / 80 文件： 网购的优惠规则为啥这么复杂？竟然是商家利益最大化的原因！李永乐老师讲价格歧视.wav\n",
      "抓取第 10285 段音频\n",
      "处理第 51 / 80 文件： 一滴水从高处落下会砸死人吗.wav\n",
      "抓取第 10545 段音频\n",
      "处理第 52 / 80 文件： 金庸武侠：左脚踩右脚能飞上天吗？轻功、内力都是啥？李永乐老师告诉你.wav\n",
      "抓取第 10887 段音频\n",
      "处理第 53 / 80 文件： “千克”是如何被重新定义的？它和量子霍尔效应有啥关系？李永乐老师讲功率秤.wav\n",
      "抓取第 11161 段音频\n",
      "处理第 54 / 80 文件： 李永乐老师讲墨菲定律.wav\n",
      "抓取第 11392 段音频\n",
      "处理第 55 / 80 文件： 什么能源可以取之不尽？中国的人造太阳EAST装置啥原理？李永乐老师讲托卡马克.wav\n",
      "抓取第 11712 段音频\n",
      "处理第 56 / 80 文件： 古代数学家刘徽和祖冲之是如何算球的体积的？李永乐老师讲祖暅原理.wav\n",
      "抓取第 11983 段音频\n",
      "处理第 57 / 80 文件： 什么样的投资值得做？圣彼得堡悖论是怎么回事？李永乐老师讲边际效用递减.wav\n",
      "抓取第 12198 段音频\n",
      "处理第 58 / 80 文件： 李永乐老师讲热电效应.wav\n",
      "抓取第 12428 段音频\n",
      "处理第 59 / 80 文件： 李永乐老师讲角动量守恒.wav\n",
      "抓取第 12798 段音频\n",
      "处理第 60 / 80 文件： 量子的波函数如何理解.wav\n",
      "抓取第 13120 段音频\n",
      "处理第 61 / 80 文件： 李永乐老师告诉你如何治疗和预防.wav\n",
      "抓取第 13465 段音频\n",
      "处理第 62 / 80 文件： 基因工程对人类的重大贡献：胰岛素是如何制作的？李永乐老师讲糖尿病医疗简史.wav\n",
      "抓取第 13801 段音频\n",
      "处理第 63 / 80 文件： 抽签顺序会影响中奖率吗？怎样才能“躺赢”？李永乐老师告诉你.wav\n",
      "抓取第 14092 段音频\n",
      "处理第 64 / 80 文件： 集卡分现金活动靠谱嘛？春节超级大红包怎么领？李永乐老师讲容斥原理.wav\n",
      "抓取第 14345 段音频\n",
      "处理第 65 / 80 文件： 如何造一台时间机器？黑洞、白洞和虫洞如何帮我们回到过去？.wav\n",
      "抓取第 14579 段音频\n",
      "处理第 66 / 80 文件： 数学家有嫉妒心是有多可怕？李永乐老师讲最速降线和伯努利家族“宫斗”.wav\n",
      "抓取第 14905 段音频\n",
      "处理第 67 / 80 文件： 李永乐老师讲核反应堆原理.wav\n",
      "抓取第 15211 段音频\n",
      "处理第 68 / 80 文件： 数学家阿基米德的羊皮书是如何重见天日的？李永乐老师讲球的体积公式如何推导.wav\n",
      "抓取第 15535 段音频\n",
      "处理第 69 / 80 文件： 比特币交易如何防伪？私钥公钥地址啥意思？李永乐老师讲比特币(2).wav\n",
      "抓取第 15788 段音频\n",
      "处理第 70 / 80 文件： 什么是爱情？怎么谈恋爱，才能有效的找到自己的真命天子？李永乐老师讲爱情数学.wav\n",
      "抓取第 16110 段音频\n",
      "处理第 71 / 80 文件： 什么是波？什么是波的干涉？李永乐老师讲神奇的驻波实验！.wav\n",
      "抓取第 16429 段音频\n",
      "处理第 72 / 80 文件： 《流浪地球》最大的硬伤：洛希极限竟是错的！地球真会被木星撕碎吗？.wav\n",
      "抓取第 16746 段音频\n",
      "处理第 73 / 80 文件： 从比较优势理论分析：中美为何会爆发贸易战？与鸦片战争有什么相似之处？李永乐老师告诉你.wav\n",
      "抓取第 17069 段音频\n",
      "处理第 74 / 80 文件： 李永乐老师讲“定楼神器”风阻尼器.wav\n",
      "抓取第 17328 段音频\n",
      "处理第 75 / 80 文件： 比特币和区块链啥原理？矿机挖矿咋回事？李永乐老师讲比特币(1).wav\n",
      "抓取第 17714 段音频\n",
      "处理第 76 / 80 文件： 李永乐老师讲宇称不守恒.wav\n",
      "抓取第 18065 段音频\n",
      "处理第 77 / 80 文件： 悬赏100万美元的“黎曼猜想”有多难？李永乐老师讲什么是黎曼猜想（3）.wav\n",
      "抓取第 18498 段音频\n",
      "处理第 78 / 80 文件： 基因编辑是啥？CRISPR - cas9技术如何修改DNA？李永乐老师讲基因工程（1）.wav\n",
      "抓取第 18781 段音频\n",
      "处理第 79 / 80 文件： 光是波还是粒子？双缝干涉实验和泊松亮斑都是怎么回事？李永乐老师讲波粒战争.wav\n",
      "抓取第 19122 段音频\n",
      "处理第 80 / 80 文件： 拉开两本叠着的书要多大力气.wav\n",
      "抓取第 19432 段音频\n"
     ]
    }
   ],
   "source": [
    "# 创建训练集\n",
    "built_dataset(train_file_lists, 'train')"
   ]
  },
  {
   "cell_type": "code",
   "execution_count": 11,
   "metadata": {},
   "outputs": [
    {
     "name": "stdout",
     "output_type": "stream",
     "text": [
      "处理第 1 / 10 文件： 反物质是什么.wav\n",
      "抓取第 0 段音频\n",
      "处理第 2 / 10 文件： 李永乐老师讲音律.wav\n",
      "抓取第 451 段音频\n",
      "处理第 3 / 10 文件： 海森堡不确定性原理和量子隧穿效应如何理解.wav\n",
      "抓取第 780 段音频\n",
      "处理第 4 / 10 文件： 外星人存在吗？人类为什么看不到外星文明？李永乐老师讲费米悖论.wav\n",
      "抓取第 1161 段音频\n",
      "处理第 5 / 10 文件： ABO血型有啥区别？孩子是不是亲生，能用血型判断吗？李永乐老师讲造血干细胞移植.wav\n",
      "抓取第 1473 段音频\n",
      "处理第 6 / 10 文件： 诺贝尔物理学奖深度解读：光学镊子和啁啾放大技术是什么？李永乐老师告诉你.wav\n",
      "抓取第 1878 段音频\n",
      "处理第 7 / 10 文件： 李永乐老师讲落猫问题.wav\n",
      "抓取第 2221 段音频\n",
      "处理第 8 / 10 文件： 耶鲁大学的实验推翻了量子力学吗.wav\n",
      "抓取第 2628 段音频\n",
      "处理第 9 / 10 文件： 李永乐老师讲机会成本.wav\n",
      "抓取第 3060 段音频\n",
      "处理第 10 / 10 文件： 经济泡沫1:4.wav\n",
      "抓取第 3497 段音频\n"
     ]
    }
   ],
   "source": [
    "built_dataset(val_file_lists, 'val')"
   ]
  }
 ],
 "metadata": {
  "kernelspec": {
   "display_name": "Python 3",
   "language": "python",
   "name": "python3"
  },
  "language_info": {
   "codemirror_mode": {
    "name": "ipython",
    "version": 3
   },
   "file_extension": ".py",
   "mimetype": "text/x-python",
   "name": "python",
   "nbconvert_exporter": "python",
   "pygments_lexer": "ipython3",
   "version": "3.7.3"
  }
 },
 "nbformat": 4,
 "nbformat_minor": 2
}
