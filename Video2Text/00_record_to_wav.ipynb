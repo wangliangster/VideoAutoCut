{
 "cells": [
  {
   "cell_type": "markdown",
   "metadata": {},
   "source": [
    "# https://blog.csdn.net/zzZ_CMing/article/details/81739193\n",
    "\n",
    "coding：utf-8\n",
    "\n",
    "author：zzZ_CMing  CSDN address:https://blog.csdn.net/zzZ_CMing\n",
    "\n",
    "2018/07/12; 15:19\n",
    "\n",
    "python3.5"
   ]
  },
  {
   "cell_type": "markdown",
   "metadata": {},
   "source": [
    "# 2019/09/05\n",
    "# Modified by Wenjia Zhai:\n",
    "1. Now it can correctly store new records, instead of overwiting the existing one anymore;\n",
    "2. Now it can record audios with any length;\n",
    "3. Now it doesn't ask for confirmation of recording."
   ]
  },
  {
   "cell_type": "code",
   "execution_count": 4,
   "metadata": {},
   "outputs": [
    {
     "name": "stdout",
     "output_type": "stream",
     "text": [
      "设置录音时长:\t3\n",
      "********** 开始录音：请在3秒内输入语音\n",
      "********** 录音结束\n",
      "\n"
     ]
    }
   ],
   "source": [
    "import pyaudio\n",
    "import wave\n",
    "import re\n",
    "\n",
    "####################################################################\n",
    "################### generte record file name #######################\n",
    "###################### modified by Wenjia ##########################\n",
    "from os import listdir\n",
    "from os.path import isfile, join\n",
    "output_filepath = \"/Users/wenjiazhai/Documents/GitHub/data_science_study/work/records/\"              # 输入文件的path\n",
    "file_list = [f for f in listdir(output_filepath) if isfile(join(output_filepath, f))]\n",
    "nums = [re.findall(r'\\d+', f) for f in file_list if f.endswith('.wav')]\n",
    "# https://stackoverflow.com/questions/3207219/how-do-i-list-all-files-of-a-directory\n",
    "new_num = 0\n",
    "if not nums:\n",
    "    new_num = 0\n",
    "else:\n",
    "    new_num = max([int(f[0]) for f in nums]) + 1\n",
    "output_filename = \"output_\" + str(new_num) + \".wav\"               # 麦克风采集的语音输入\n",
    "out_path = output_filepath + output_filename\n",
    "####################################################################\n",
    "\n",
    "def get_audio(filepath):\n",
    "    CHUNK = 256\n",
    "    FORMAT = pyaudio.paInt16\n",
    "    CHANNELS = 1                # 声道数\n",
    "    RATE = 16000                # 采样率\n",
    "    RECORD_SECONDS = int(input('设置录音时长:\\t'))\n",
    "    WAVE_OUTPUT_FILENAME = out_path\n",
    "    p = pyaudio.PyAudio()\n",
    "\n",
    "    stream = p.open(format=FORMAT,\n",
    "                    channels=CHANNELS,\n",
    "                    rate=RATE,\n",
    "                    input=True,\n",
    "                    frames_per_buffer=CHUNK)\n",
    "\n",
    "    print(\"*\"*10, f\"开始录音：请在{RECORD_SECONDS}秒内输入语音\")\n",
    "    frames = []\n",
    "    for i in range(0, int(RATE / CHUNK * RECORD_SECONDS)):\n",
    "        data = stream.read(CHUNK)\n",
    "        frames.append(data)\n",
    "    print(\"*\"*10, \"录音结束\\n\")\n",
    "\n",
    "    stream.stop_stream()\n",
    "    stream.close()\n",
    "    p.terminate()\n",
    "\n",
    "    wf = wave.open(WAVE_OUTPUT_FILENAME, 'wb')\n",
    "    wf.setnchannels(CHANNELS)\n",
    "    wf.setsampwidth(p.get_sample_size(FORMAT))\n",
    "    wf.setframerate(RATE)\n",
    "    wf.writeframes(b''.join(frames))\n",
    "    wf.close()\n",
    "\n",
    "\n",
    "# 联合上一篇博客代码使用，就注释掉下面，单独使用就不注释\n",
    "get_audio(out_path)"
   ]
  }
 ],
 "metadata": {
  "kernelspec": {
   "display_name": "Python 3",
   "language": "python",
   "name": "python3"
  },
  "language_info": {
   "codemirror_mode": {
    "name": "ipython",
    "version": 3
   },
   "file_extension": ".py",
   "mimetype": "text/x-python",
   "name": "python",
   "nbconvert_exporter": "python",
   "pygments_lexer": "ipython3",
   "version": "3.7.3"
  }
 },
 "nbformat": 4,
 "nbformat_minor": 2
}
